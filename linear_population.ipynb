{
 "cells": [
  {
   "cell_type": "code",
   "execution_count": 39,
   "metadata": {},
   "outputs": [],
   "source": [
    "import numpy as np\n",
    "from ansys.mapdl.core import launch_mapdl\n",
    "from ansys.mapdl.core.convert import convert_apdl_block\n",
    "import numpy as np\n",
    "import pyvista\n",
    "import matplotlib.pyplot as plt\n",
    "import pandas as pd"
   ]
  },
  {
   "cell_type": "code",
   "execution_count": 43,
   "metadata": {},
   "outputs": [],
   "source": [
    "def linear_model(steel_den=7850, steel_poisson=0.3, steel_YM=210e+9, steel_damping=0.01, # material parameters\n",
    "                   mon_len = 75, mon_base_r2 = 3, mon_base_r1 = 2.973, mon_top_r2 = 3, # monopile parameters\n",
    "                   mon_top_r1 = 2.973, mon_embedded_n_nodes=5,mon_submerged_n_nodes=3, mon_air_n_nodes = 2, \n",
    "                   tower_len = 87.6, tower_top_r2 = 1.935, tower_top_r1 = 1.916, # tower parameters\n",
    "                   tower_base_r2 = 3, tower_base_r1 = 2.973, tower_n_nodes = 10,\n",
    "                   nac_mass = 350e+3, nac_height = 4.8, nac_n_nodes = 1, # nacelle parameters\n",
    "                   water_switch=1, # water modelling switch\n",
    "                   fixtures_switch=1, # adds density to the tower section to account for fixtures/fittings\n",
    "                   embedded_len = 45,\n",
    "                   tower_start = 10,\n",
    "                   soil_model_switch = 1, soil_k_vec = [2.4e8 / 9], soil_eta = 0.01,\n",
    "                   spring_len = 10,\n",
    "                   scour_depth=0,\n",
    "                   wind_load=2e+6,\n",
    "                   wave_load=0,\n",
    "                   ):\n",
    "    \n",
    "    if soil_model_switch==1: # only applies to linear models\n",
    "        embedded_len = embedded_len - scour_depth # update effective embedded length based on scour\n",
    "        \n",
    "    submerged_len = mon_len - tower_start - embedded_len\n",
    "    if submerged_len + embedded_len > mon_len:\n",
    "        raise Exception(\"monopile cannot be shorter than submerged length + embedded length\")\n",
    "\n",
    "    mon_n_nodes = mon_embedded_n_nodes + mon_submerged_n_nodes + mon_air_n_nodes # useful quantity\n",
    "\n",
    "    # nacelle calculations\n",
    "    vol = nac_mass / steel_den\n",
    "    nac_rad = np.sqrt((vol/nac_height)/np.pi)\n",
    "    \n",
    "    # launch mapdl\n",
    "    mapdl = launch_mapdl()\n",
    "\n",
    "    ### Modelling\n",
    "    mapdl.clear()\n",
    "    mapdl.prep7()\n",
    "\n",
    "    ## Material properties\n",
    "    mapdl.mptemp(1,0) \n",
    "    # normal steel\n",
    "    mapdl.mpdata(\"EX\",1,c1=steel_YM)   \n",
    "    mapdl.mpdata(\"PRXY\",1,c1=steel_poisson)   \n",
    "    mapdl.mpdata(\"DENS\",1,c1=steel_den)\n",
    "    mapdl.mpdata(\"DMPR\",1,c1=steel_damping)\n",
    "    # submerged steel\n",
    "    mapdl.mpdata(\"EX\",2,c1=steel_YM)   \n",
    "    mapdl.mpdata(\"PRXY\",2,c1=steel_poisson)   \n",
    "    mapdl.mpdata(\"DENS\",2,c1=steel_den + 1030) # added mass method (+ density of sea water)\n",
    "    mapdl.mpdata(\"DMPR\",2,c1=steel_damping)\n",
    "    # steel + fixture/fittings\n",
    "    mapdl.mpdata(\"EX\",3,c1=steel_YM)   \n",
    "    mapdl.mpdata(\"PRXY\",3,c1=steel_poisson)   \n",
    "    mapdl.mpdata(\"DENS\",3,c1=steel_den + 650) # nominally 8500kg/m3 ~ + 8%\n",
    "    mapdl.mpdata(\"DMPR\",3,c1=steel_damping)\n",
    "\n",
    "\n",
    "    # Create element types\n",
    "    mapdl.et(1,\"BEAM188\") # beam element\n",
    "    mapdl.et(2,\"COMBIN14\", 0, 0, 0) # linear spring element (linear solution, option 3, 3d longitudinal spring damper)\n",
    "    mapdl.et(3,\"COMBIN39\", 0, 0, 0, 1, 0, 1) # non-linear spring element\n",
    "\n",
    "    ## create keypoints for geometry  \n",
    "    keypoints = [0, embedded_len, embedded_len + submerged_len, mon_len, \n",
    "                 mon_len + tower_len, mon_len + tower_len + nac_height]\n",
    "\n",
    "    kp_num = 1\n",
    "    for i in range(len(keypoints)):\n",
    "        mapdl.k(kp_num, keypoints[i], 0, 0)\n",
    "        kp_num += 1\n",
    "\n",
    "    # connect keypoints with lines\n",
    "    mapdl.lstr(1, 2) # monopile line\n",
    "    mapdl.lstr(2, 3) # tower line\n",
    "    mapdl.lstr(3, 4) # nacelle line\n",
    "    mapdl.lstr(4, 5) # tower line\n",
    "    mapdl.lstr(5, 6) # nacelle line\n",
    "\n",
    "    ## cross-sections\n",
    "    # monopile base\n",
    "    mapdl.sectype(1, \"BEAM\", \"CTUBE\", \"monopile\", 0)  \n",
    "    mapdl.secoffset(\"CENT\") \n",
    "    mapdl.secdata(mon_base_r1,mon_base_r2,0,0,0,0,0,0,0,0,0,0)  \n",
    "\n",
    "    # monopile top\n",
    "    mapdl.sectype(2, \"BEAM\", \"CTUBE\", \"monopile\", 0)  \n",
    "    mapdl.secoffset(\"CENT\") \n",
    "    mapdl.secdata(mon_top_r1,mon_top_r2,0,0,0,0,0,0,0,0,0,0)  \n",
    "\n",
    "    # tower base\n",
    "    mapdl.sectype(3, \"BEAM\", \"CTUBE\", \"tower\", 0)  \n",
    "    mapdl.secoffset(\"CENT\") \n",
    "    mapdl.secdata(tower_base_r1,tower_base_r2,0,0,0,0,0,0,0,0,0,0)  \n",
    "\n",
    "    # tower top\n",
    "    mapdl.sectype(4, \"BEAM\", \"CTUBE\", \"tower\", 0)  \n",
    "    mapdl.secoffset(\"CENT\") \n",
    "    mapdl.secdata(tower_top_r1,tower_top_r2,0,0,0,0,0,0,0,0,0,0)  \n",
    "\n",
    "    # monopile taper\n",
    "    mapdl.sectype(5,\"TAPER\", name=\"monopile_taper\") \n",
    "    mapdl.secdata(1, 0) \n",
    "    mapdl.secdata(2, mon_len) \n",
    "\n",
    "    # tower taper\n",
    "    mapdl.sectype(6,\"TAPER\", name=\"tower_taper\") \n",
    "    mapdl.secdata(3, mon_len) \n",
    "    mapdl.secdata(4, mon_len + tower_len) \n",
    "\n",
    "    # nacelle\n",
    "    mapdl.sectype(7, \"BEAM\", \"CSOLID\", \"nacelle\", 0)  \n",
    "    mapdl.secoffset(\"CENT\") \n",
    "    mapdl.secdata(nac_rad,0,0,0,0,0,0,0,0,0,0,0)  \n",
    "\n",
    "    ### ------------- meshing ---------------\n",
    "    # create keypoint for cross-section orientation\n",
    "    mapdl.k(7, 0, 20, 0)\n",
    "\n",
    "    \n",
    "    ## Meshing line 1 (embedded monopile)\n",
    "    # set appropriate material\n",
    "    mapdl.mat(1)\n",
    "    # select first line\n",
    "    mapdl.lsel(\"\", \"\", \"\", 1)\n",
    "    # select correct cross section and orientation\n",
    "    mapdl.latt(1,1,1,7,\"\",5)\n",
    "    # Set number of nodes\n",
    "    mapdl.lesize(\"ALL\", \"\", \"\", mon_embedded_n_nodes, \"\", \"\", \"\", \"\", 1)\n",
    "    # Mesh line 1\n",
    "    mapdl.lmesh(1)\n",
    "\n",
    "    # submerged monopile\n",
    "    if water_switch == 1:\n",
    "        mapdl.mat(2)\n",
    "    mapdl.lsel(\"\", \"\", \"\", 2)\n",
    "    mapdl.latt(1,1,1,7,\"\",5)\n",
    "    mapdl.lesize(\"ALL\", \"\", \"\", mon_submerged_n_nodes, \"\", \"\", \"\", \"\", 1)\n",
    "    mapdl.lmesh(2)\n",
    "\n",
    "    # monopile in air\n",
    "    mapdl.mat(1)\n",
    "    mapdl.lsel(\"\", \"\", \"\", 3)\n",
    "    mapdl.latt(1,1,1,7,\"\",5)\n",
    "    mapdl.lesize(\"ALL\", \"\", \"\", mon_air_n_nodes, \"\", \"\", \"\", \"\", 1)\n",
    "    mapdl.lmesh(3)\n",
    "\n",
    "    # tower\n",
    "    if fixtures_switch == 1:\n",
    "        mapdl.mat(3)\n",
    "    mapdl.lsel(\"\", \"\", \"\", 4)\n",
    "    mapdl.latt(1,1,1,7,\"\",6)\n",
    "    mapdl.lesize(\"ALL\", \"\", \"\", tower_n_nodes, \"\", \"\", \"\", \"\", 1)\n",
    "    mapdl.lmesh(4)\n",
    "\n",
    "    # nacelle\n",
    "    mapdl.mat(2)\n",
    "    mapdl.lsel(\"\", \"\", \"\", 5)\n",
    "    mapdl.latt(1,1,1,7,\"\",7)\n",
    "    mapdl.lesize(\"ALL\", \"\", \"\", nac_n_nodes, \"\", \"\", \"\", \"\", 1)\n",
    "    mapdl.lmesh(5)\n",
    "\n",
    "    # Workaround for material selection not working during meshing\n",
    "    if water_switch:\n",
    "        mapdl.esel(\"\",\"\",\"\",mon_embedded_n_nodes + 1,mon_embedded_n_nodes + mon_submerged_n_nodes)\n",
    "        mapdl.mpchg(2,\"ALL\")\n",
    "    if fixtures_switch:\n",
    "        mapdl.esel(\"\",\"\",\"\",mon_n_nodes + 1, mon_n_nodes + tower_n_nodes)\n",
    "        mapdl.mpchg(3,\"ALL\") \n",
    "    mapdl.esel(\"ALL\")\n",
    "\n",
    "    # # Springs\n",
    "    n_springs = mon_embedded_n_nodes + 1 # get appropriate num nodes below soil depth\n",
    "    spring_gap = embedded_len/mon_embedded_n_nodes # gap between springs (i.e. gap between nodes)\n",
    "    spring_depths = []\n",
    "    for i in range(n_springs):\n",
    "        spring_depths.append(0 + i*spring_gap) # shallowest to deepest\n",
    "\n",
    "    ### ---------- Soil Modelling -------------\n",
    "\n",
    "    # Initialise natural frequency array\n",
    "    pop_size = len(soil_k_vec)\n",
    "\n",
    "    #nat_freqs = np.zeros((6, pop_size)) # first 6 natural frequencies\n",
    "    nat_freqs = np.zeros((pop_size,1))\n",
    "\n",
    "    for p in range(pop_size):\n",
    "        ## Set up constants\n",
    "\n",
    "        ## put APDL back in the correct mode\n",
    "        mapdl.prep7()\n",
    "        \n",
    "        # variables to change for population member\n",
    "        soil_k = soil_k_vec[p]\n",
    "        \n",
    "        # encastre\n",
    "        if soil_model_switch == 0:\n",
    "            mapdl.dk(1,\"ALL\",0) # constrains base of tower\n",
    "        # linear springs\n",
    "        elif soil_model_switch == 1: \n",
    "            mapdl.type(2) # Change to COMBIN14\n",
    "            mapdl.r(1, soil_k * spring_gap, soil_eta) # convert soil_k per unit length to soil_k\n",
    "            #mapdl.r(2, soil_k * (spring_gap / 2), soil_eta) # for surface and bottom springs\n",
    "        # non-linear springs\n",
    "\n",
    "            ## Create springs if needed\n",
    "            # set up query\n",
    "            if p == 0: # only need to create springs for the first population member\n",
    "                q = mapdl.queries\n",
    "                    # i.e. if modelling soil (not encastre), create springs\n",
    "                if soil_model_switch == 1:\n",
    "                    for i in range(n_springs - 1): # no spring at surface (easier to model scour), hence n_springs-1 and i+1\n",
    "                        mapdl.real(1) # linear model\n",
    "                        ## y-direction\n",
    "                        # create node\n",
    "                        mapdl.n(\"\", embedded_len - (i+1)*spring_gap, spring_len, 0)\n",
    "                        # create spring\n",
    "                        mapdl.e(q.node(embedded_len - (i+1)*spring_gap, 0, 0), q.node(embedded_len - (i+1)*spring_gap, spring_len, 0))\n",
    "                        ## z-direction\n",
    "                        # create node\n",
    "                        mapdl.n(\"\", embedded_len - (i+1)*spring_gap, 0, spring_len)\n",
    "                        # create spring\n",
    "                        mapdl.e(q.node(embedded_len - (i+1)*spring_gap, 0, 0), q.node(embedded_len - (i+1)*spring_gap, 0, spring_len))\n",
    "        \n",
    "                    ### axial q-z spring\n",
    "                    # # create node\n",
    "                    # mapdl.r(n_springs + 1, 3e13, soil_eta) # assumed linear spring for base\n",
    "                    # mapdl.real(n_springs + 1) # change to correct constant set\n",
    "                    # mapdl.type(2) # Change to COMBIN14\n",
    "                    \n",
    "                    # mapdl.n(\"\", -spring_len, 0, 0)\n",
    "                    # # create spring\n",
    "                    # mapdl.e(q.node(0, 0, 0), q.node(-spring_len, 0, 0))\n",
    "\n",
    "                    # Add node constrains to free end of springs\n",
    "                    #mapdl.d(q.node(0, spring_len, 0),\"ALL\",0,\"\",q.node(spring_depths[0], 0, spring_len))\n",
    "                    \n",
    "                    # # with q-z spring\n",
    "                    # if soil_model_switch==1:\n",
    "                    #     mapdl.d(q.node(embedded_len - spring_gap, spring_len, 0),\"ALL\",0,\"\",q.node(-spring_len, 0, 0)) # first spring to last spring\n",
    "                    # else:\n",
    "                    #     mapdl.d(q.node(embedded_len, spring_len, 0),\"ALL\",0,\"\",q.node(-spring_len, 0, 0)) # first spring to last spring\n",
    "\n",
    "                    # without q-z spring\n",
    "                    if soil_model_switch==1:\n",
    "                        mapdl.d(q.node(embedded_len - spring_gap, spring_len, 0),\"ALL\",0,\"\",q.node(0, 0, spring_len)) # first spring to last spring\n",
    "                    else:\n",
    "                        mapdl.d(q.node(embedded_len, spring_len, 0),\"ALL\",0,\"\",q.node(0, 0, spring_len)) # first spring to last spring\n",
    "                    \n",
    "                    mapdl.dk(1,\"UX\",0) # zero displacement in x-direction\n",
    "\n",
    "                    \n",
    "\n",
    "        ## modal analysis\n",
    "        mapdl.run(\"/SOL\")\n",
    "        mapdl.modal_analysis(nmode=20, freqb=0, freqe=10, mxpand=20)\n",
    "\n",
    "        mapdl.finish()\n",
    "        mapdl.post1()\n",
    "\n",
    "        # natural frequencies\n",
    "        #test = mapdl.post_processing.frequency_values[:6]\n",
    "\n",
    "        ## original with 6 nat frequencies\n",
    "        #nat_freqs[:,p] = mapdl.post_processing.frequency_values[:6]\n",
    "        nat_freqs[p] = mapdl.post_processing.frequency_values[1]\n",
    "\n",
    "    mapdl.exit()\n",
    "    return nat_freqs\n"
   ]
  },
  {
   "cell_type": "code",
   "execution_count": 41,
   "metadata": {},
   "outputs": [
    {
     "name": "stdout",
     "output_type": "stream",
     "text": [
      "PyMAPDL is taking longer than expected to connect to an MAPDL session.\n",
      "Checking if there are any available licenses...\n"
     ]
    },
    {
     "data": {
      "text/plain": [
       "array(0.32083)"
      ]
     },
     "execution_count": 41,
     "metadata": {},
     "output_type": "execute_result"
    }
   ],
   "source": [
    "### NREL 5MW Tower only encastre\n",
    "\n",
    "linear_model(mon_len = 1e-6,\n",
    "                   embedded_len = 1e-6,\n",
    "                   tower_start = 1e-6,\n",
    "                   soil_model_switch = 0,\n",
    "                   tower_len=87.6,\n",
    "                   tower_top_r2 = 1.935, tower_top_r1 = 1.9103, # 30% increase in thickness\n",
    "                   tower_base_r2 = 3, tower_base_r1 = 2.9649, # 30% increase in thickness\n",
    "                   ).squeeze()"
   ]
  },
  {
   "cell_type": "code",
   "execution_count": 33,
   "metadata": {},
   "outputs": [
    {
     "name": "stdout",
     "output_type": "stream",
     "text": [
      "PyMAPDL is taking longer than expected to connect to an MAPDL session.\n",
      "Checking if there are any available licenses...\n"
     ]
    },
    {
     "data": {
      "text/plain": [
       "array([0.21498, 0.21498, 1.5536 , 1.5536 , 4.576  , 4.576  ])"
      ]
     },
     "execution_count": 33,
     "metadata": {},
     "output_type": "execute_result"
    }
   ],
   "source": [
    "### Zuo NREL 5MW Tower + monopile, encastre, fixed at seabed\n",
    "\n",
    "linear_model(mon_len = 35, # to effectively fix it at seabed level\n",
    "                   embedded_len = 1e-6, # to effectively fix it at seabed level\n",
    "                   tower_top_r2 = 1.935, tower_top_r1 = 1.9103, # 30% increase in thickness\n",
    "                   tower_base_r2 = 3, tower_base_r1 = 2.9649,\n",
    "                   mon_top_r2 = 3, mon_top_r1 = 2.9649, # 30% increase in thickness\n",
    "                   mon_base_r2 = 3, mon_base_r1 = 2.9649,\n",
    "                   soil_model_switch = 0,\n",
    "                   ).squeeze() # 30% increase in thickness).squeeze()"
   ]
  },
  {
   "cell_type": "code",
   "execution_count": 32,
   "metadata": {},
   "outputs": [
    {
     "name": "stdout",
     "output_type": "stream",
     "text": [
      "PyMAPDL is taking longer than expected to connect to an MAPDL session.\n",
      "Checking if there are any available licenses...\n"
     ]
    },
    {
     "data": {
      "text/plain": [
       "array([0.14253, 0.14253, 0.93735, 0.93735, 2.7669 , 2.7669 ])"
      ]
     },
     "execution_count": 32,
     "metadata": {},
     "output_type": "execute_result"
    }
   ],
   "source": [
    "### Zuo NREL 5MW Tower + monopile, encastre, fixed at base of monopile\n",
    "linear_model(      tower_top_r2 = 1.935, tower_top_r1 = 1.9103, # 30% increase in thickness\n",
    "                   tower_base_r2 = 3, tower_base_r1 = 2.9649,\n",
    "                   mon_top_r2 = 3, mon_top_r1 = 2.9649, # 30% increase in thickness\n",
    "                   mon_base_r2 = 3, mon_base_r1 = 2.9649,\n",
    "                   soil_model_switch = 0,\n",
    "                   ).squeeze() # 30% increase in thickness).squeeze()"
   ]
  },
  {
   "cell_type": "code",
   "execution_count": 36,
   "metadata": {},
   "outputs": [
    {
     "name": "stdout",
     "output_type": "stream",
     "text": [
      "PyMAPDL is taking longer than expected to connect to an MAPDL session.\n",
      "Checking if there are any available licenses...\n"
     ]
    },
    {
     "data": {
      "text/plain": [
       "array([0.     , 0.15547, 0.15547, 1.0481 , 1.0481 , 2.9874 ])"
      ]
     },
     "execution_count": 36,
     "metadata": {},
     "output_type": "execute_result"
    }
   ],
   "source": [
    "### Zuo NREL 5MW Tower + monopile, springs\n",
    "linear_model(tower_top_r2 = 1.935, tower_top_r1 = 1.9103, # 30% increase in thickness\n",
    "                   tower_base_r2 = 3, tower_base_r1 = 2.9649,\n",
    "                   mon_top_r2 = 3, mon_top_r1 = 2.9649, # 30% increase in thickness\n",
    "                   mon_base_r2 = 3, mon_base_r1 = 2.9649,\n",
    "                   soil_model_switch = 1,\n",
    "                   #soil_k_vec=[1e7], # N/m\n",
    "                   soil_k_vec=[4e6], # N/m\n",
    "                   mon_embedded_n_nodes=50,\n",
    "                   ).squeeze()"
   ]
  },
  {
   "cell_type": "code",
   "execution_count": 47,
   "metadata": {},
   "outputs": [
    {
     "name": "stdout",
     "output_type": "stream",
     "text": [
      "PyMAPDL is taking longer than expected to connect to an MAPDL session.\n",
      "Checking if there are any available licenses...\n"
     ]
    }
   ],
   "source": [
    "soil_k_vec=[2e6, 2.2e6, 2.4e6, 2.6e6, 2.8e6, 3e6, 3.2e6, 3.4e6, 3.6e6, 3.8e6, 4e6, 4.2e6, 4.4e6, 4.6e6, 4.8e6, 5e6, 5.2e6, 5.4e6, 5.6e6, 5.8e6, 6e6]\n",
    "\n",
    "wn = linear_model(tower_top_r2 = 1.935, tower_top_r1 = 1.9103, # 30% increase in thickness\n",
    "                   tower_base_r2 = 3, tower_base_r1 = 2.9649,\n",
    "                   mon_top_r2 = 3, mon_top_r1 = 2.9649, # 30% increase in thickness\n",
    "                   mon_base_r2 = 3, mon_base_r1 = 2.9649,\n",
    "                   soil_model_switch = 1,\n",
    "                   #soil_k_vec=[1e7], # N/m\n",
    "                   soil_k_vec=soil_k_vec, # N/m\n",
    "                   mon_embedded_n_nodes=50,\n",
    "                   ).squeeze()\n",
    "\n",
    "\n",
    "wn = np.reshape(wn, (-1))"
   ]
  },
  {
   "cell_type": "code",
   "execution_count": 48,
   "metadata": {},
   "outputs": [
    {
     "data": {
      "text/plain": [
       "<matplotlib.collections.PathCollection at 0x1e20e93b950>"
      ]
     },
     "execution_count": 48,
     "metadata": {},
     "output_type": "execute_result"
    },
    {
     "data": {
      "image/png": "[encoded data removed]",
      "text/plain": [
       "<Figure size 640x480 with 1 Axes>"
      ]
     },
     "metadata": {},
     "output_type": "display_data"
    }
   ],
   "source": [
    "plt.scatter([2e6, 2.2e6, 2.4e6, 2.6e6, 2.8e6, 3e6, 3.2e6, 3.4e6, 3.6e6, 3.8e6, 4e6, 4.2e6, 4.4e6, 4.6e6, 4.8e6, 5e6, 5.2e6, 5.4e6, 5.6e6, 5.8e6, 6e6],wn)"
   ]
  },
  {
   "cell_type": "code",
   "execution_count": 50,
   "metadata": {},
   "outputs": [],
   "source": [
    "# create dataframe\n",
    "fe_df = pd.DataFrame(\n",
    "    { 'k': soil_k_vec,\n",
    "     'wn': wn\n",
    "    })\n",
    "\n",
    "fe_df.head()\n",
    "\n",
    "fe_df.to_csv('fe_model_data/fe_model_data.csv')"
   ]
  }
 ],
 "metadata": {
  "kernelspec": {
   "display_name": ".venv",
   "language": "python",
   "name": "python3"
  },
  "language_info": {
   "codemirror_mode": {
    "name": "ipython",
    "version": 3
   },
   "file_extension": ".py",
   "mimetype": "text/x-python",
   "name": "python",
   "nbconvert_exporter": "python",
   "pygments_lexer": "ipython3",
   "version": "3.11.9"
  }
 },
 "nbformat": 4,
 "nbformat_minor": 2
}
